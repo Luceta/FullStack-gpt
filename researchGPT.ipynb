{
 "cells": [
  {
   "cell_type": "code",
   "execution_count": 10,
   "metadata": {},
   "outputs": [],
   "source": [
    "import os\n",
    "from langchain_community.utilities import WikipediaAPIWrapper\n",
    "from langchain.utilities.duckduckgo_search import DuckDuckGoSearchAPIWrapper\n",
    "from langchain_community.agent_toolkits import FileManagementToolkit\n",
    "\n",
    "import json\n",
    "\n",
    "\n",
    "def get_ddgSearch(inputs):\n",
    "    ddg = DuckDuckGoSearchAPIWrapper()\n",
    "    keyword = inputs[\"keyword\"]\n",
    "    return ddg.run(f\"research of {keyword}\")\n",
    "\n",
    "\n",
    "def get_wikiSearch(inputs):\n",
    "    wiki = WikipediaAPIWrapper()\n",
    "    keyword = inputs[\"keyword\"]\n",
    "    return wiki.run(f\"research of {keyword}\")\n",
    "\n",
    "\n",
    "def save_to_file(query, result):\n",
    "    working_directory = os.getcwd()\n",
    "    tools = FileManagementToolkit(\n",
    "        root_dir=working_directory,\n",
    "        selected_tools=[\"write_file\"],\n",
    "    ).get_tools()\n",
    "\n",
    "    (write_tool,) = tools\n",
    "\n",
    "    results = write_tool.invoke({\"file_path\": f\"{query}.txt\", \"text\": result[\"output\"]})\n",
    "    return results\n",
    "\n",
    "\n",
    "functions_map = {\n",
    "    \"get_ddgSearch\": get_ddgSearch,\n",
    "    \"get_wikiSearch\": get_wikiSearch,\n",
    "    \"save_to_file\": save_to_file,\n",
    "}\n",
    "\n",
    "functions = [\n",
    "    {\n",
    "        \"type\": \"function\",\n",
    "        \"function\": {\n",
    "            \"name\": \"get_ddgSearch\",\n",
    "            \"description\": \"find the duckduck go search Result in this website with keyword arugment.\",\n",
    "            \"parameters\": {\n",
    "                \"type\": \"object\",\n",
    "                \"properties\": {\n",
    "                    \"keyword\": {\n",
    "                        \"type\": \"string\",\n",
    "                        \"description\": \"The research of keyword\",\n",
    "                    }\n",
    "                },\n",
    "                \"required\": [\"keyword\"],\n",
    "            },\n",
    "        },\n",
    "    },\n",
    "    {\n",
    "        \"type\": \"function\",\n",
    "        \"function\": {\n",
    "            \"name\": \"get_wikiSearch\",\n",
    "            \"description\": \"find the wikipedia search Result in this website with query arugment.\",\n",
    "            \"parameters\": {\n",
    "                \"type\": \"object\",\n",
    "                \"properties\": {\n",
    "                    \"keyword\": {\n",
    "                        \"type\": \"string\",\n",
    "                        \"description\": \"The research of keyword\",\n",
    "                    }\n",
    "                },\n",
    "                \"required\": [\"keyword\"],\n",
    "            },\n",
    "        },\n",
    "    },\n",
    "    {\n",
    "        \"type\": \"function\",\n",
    "        \"function\": {\n",
    "            \"name\": \"save_to_file\",\n",
    "            \"description\": \"Save information to a file.\",\n",
    "            \"parameters\": {\n",
    "                \"type\": \"object\",\n",
    "                \"properties\": {\n",
    "                    \"query\": {\n",
    "                        \"type\": \"string\",\n",
    "                        \"description\": \"The query used to retrieve the information.\",\n",
    "                    },\n",
    "                    \"result\": {\n",
    "                        \"type\": \"string\",\n",
    "                        \"description\": \"The result to be saved in the file.\",\n",
    "                    },\n",
    "                },\n",
    "                \"required\": [\"query\", \"result\"],\n",
    "            },\n",
    "        },\n",
    "    },\n",
    "]"
   ]
  },
  {
   "cell_type": "code",
   "execution_count": 11,
   "metadata": {},
   "outputs": [],
   "source": [
    "import openai as client\n",
    "\n",
    "#assistant = client.beta.assistants.create(\n",
    "#    name=\"Research AI Assistant\",\n",
    "#    instructions=\"\"\"You are a helful search manager assistance.\n",
    "            \n",
    "#            You should try to search information WikiPedia or DuckDuckGo,\n",
    "            \n",
    "#            If there is a list of website urls in the search results list, please extract the content of each website to text and organize it, \n",
    "#            This will be documented, so please keep the results organized\"\"\",\n",
    "#    model=\"gpt-4-1106-preview\",\n",
    "#    tools=functions,\n",
    "#)\n",
    "assistant_id = \"asst_md3AYOa4IsJtVFEl9bTitIe2\""
   ]
  },
  {
   "cell_type": "code",
   "execution_count": 12,
   "metadata": {},
   "outputs": [
    {
     "data": {
      "text/plain": [
       "Thread(id='thread_nlIHJ5QIm5ppFr1sAWegSMSu', created_at=1713110532, metadata={}, object='thread')"
      ]
     },
     "execution_count": 12,
     "metadata": {},
     "output_type": "execute_result"
    }
   ],
   "source": [
    "thread = client.beta.threads.create(\n",
    "    messages=[\n",
    "        {\n",
    "            \"role\": \"user\",\n",
    "            \"content\": \"I want to know if the Salesforce stock is a good buy\",\n",
    "        }\n",
    "    ]\n",
    ")\n",
    "thread"
   ]
  },
  {
   "cell_type": "code",
   "execution_count": 13,
   "metadata": {},
   "outputs": [
    {
     "data": {
      "text/plain": [
       "Run(id='run_XuL7DO5m1TFlo0Vpkkg9m5vu', assistant_id='asst_md3AYOa4IsJtVFEl9bTitIe2', cancelled_at=None, completed_at=None, created_at=1713110534, expires_at=1713111134, failed_at=None, file_ids=[], instructions='You are a helful search manager assistance.\\n            \\n            You should try to search information WikiPedia or DuckDuckGo,\\n            \\n            If there is a list of website urls in the search results list, please extract the content of each website to text and organize it, \\n            This will be documented, so please keep the results organized', last_error=None, metadata={}, model='gpt-4-1106-preview', object='thread.run', required_action=None, started_at=None, status='queued', thread_id='thread_nlIHJ5QIm5ppFr1sAWegSMSu', tools=[FunctionTool(function=FunctionDefinition(name='get_ddgSearch', description='find the duckduck go search Result in this website with keyword arugment.', parameters={'type': 'object', 'properties': {'keyword': {'type': 'string', 'description': 'The research of keyword'}}, 'required': ['keyword']}), type='function'), FunctionTool(function=FunctionDefinition(name='get_wikiSearch', description='find the wikipedia search Result in this website with query arugment.', parameters={'type': 'object', 'properties': {'keyword': {'type': 'string', 'description': 'The research of keyword'}}, 'required': ['keyword']}), type='function'), FunctionTool(function=FunctionDefinition(name='save_to_file', description='Save information to a file.', parameters={'type': 'object', 'properties': {'query': {'type': 'string', 'description': 'The query used to retrieve the information.'}, 'result': {'type': 'string', 'description': 'The result to be saved in the file.'}}, 'required': ['query', 'result']}), type='function')], usage=None, temperature=1.0, max_completion_tokens=None, max_prompt_tokens=None, truncation_strategy={'type': 'auto', 'last_messages': None}, incomplete_details=None, response_format='auto', tool_choice='auto')"
      ]
     },
     "execution_count": 13,
     "metadata": {},
     "output_type": "execute_result"
    }
   ],
   "source": [
    "run = client.beta.threads.runs.create(\n",
    "    thread_id=thread.id,\n",
    "    assistant_id=assistant_id,\n",
    ")\n",
    "run"
   ]
  },
  {
   "cell_type": "code",
   "execution_count": 14,
   "metadata": {},
   "outputs": [],
   "source": [
    "def get_run(run_id, thread_id):\n",
    "    return client.beta.threads.runs.retrieve(\n",
    "        run_id=run_id,\n",
    "        thread_id=thread_id,\n",
    "    )\n",
    "\n",
    "\n",
    "def send_message(thread_id, content):\n",
    "    return client.beta.threads.messages.create(\n",
    "        thread_id=thread_id, role=\"user\", content=content\n",
    "    )\n",
    "\n",
    "\n",
    "def get_messages(thread_id):\n",
    "    messages = client.beta.threads.messages.list(thread_id=thread_id).data\n",
    "    messages.reverse()\n",
    "    for message in messages:\n",
    "        print(f\"{message.role}: {message.content[0].text.value}\")\n",
    "\n",
    "\n",
    "def get_tool_outputs(run_id, thread_id):\n",
    "    run = get_run(run_id, thread.id)\n",
    "    outputs = []\n",
    "    for action in run.required_action.submit_tool_outputs.tool_calls:\n",
    "        action_id = action.id\n",
    "        function = action.function\n",
    "        print(f\"Calling function: {function.name} with arg {function.arguments}\")\n",
    "        outputs.append(\n",
    "            {\n",
    "                \"output\": functions_map[function.name](json.loads(function.arguments)),\n",
    "                \"tool_call_id\": action_id,\n",
    "            }\n",
    "        )\n",
    "    return outputs\n",
    "\n",
    "\n",
    "def submit_tool_outputs(run_id, thread_id):\n",
    "    outpus = get_tool_outputs(run_id, thread_id)\n",
    "    return client.beta.threads.runs.submit_tool_outputs(\n",
    "        run_id=run_id, thread_id=thread_id, tool_outputs=outpus\n",
    "    )"
   ]
  },
  {
   "cell_type": "code",
   "execution_count": 16,
   "metadata": {},
   "outputs": [
    {
     "data": {
      "text/plain": [
       "Run(id='run_XuL7DO5m1TFlo0Vpkkg9m5vu', assistant_id='asst_md3AYOa4IsJtVFEl9bTitIe2', cancelled_at=None, completed_at=None, created_at=1713110534, expires_at=1713111134, failed_at=None, file_ids=[], instructions='You are a helful search manager assistance.\\n            \\n            You should try to search information WikiPedia or DuckDuckGo,\\n            \\n            If there is a list of website urls in the search results list, please extract the content of each website to text and organize it, \\n            This will be documented, so please keep the results organized', last_error=None, metadata={}, model='gpt-4-1106-preview', object='thread.run', required_action=RequiredAction(submit_tool_outputs=RequiredActionSubmitToolOutputs(tool_calls=[RequiredActionFunctionToolCall(id='call_BGq2ML2VCQeNjSfsfieYFXrv', function=Function(arguments='{\"keyword\":\"is Salesforce stock a good buy\"}', name='get_ddgSearch'), type='function')]), type='submit_tool_outputs'), started_at=1713110534, status='requires_action', thread_id='thread_nlIHJ5QIm5ppFr1sAWegSMSu', tools=[FunctionTool(function=FunctionDefinition(name='get_ddgSearch', description='find the duckduck go search Result in this website with keyword arugment.', parameters={'type': 'object', 'properties': {'keyword': {'type': 'string', 'description': 'The research of keyword'}}, 'required': ['keyword']}), type='function'), FunctionTool(function=FunctionDefinition(name='get_wikiSearch', description='find the wikipedia search Result in this website with query arugment.', parameters={'type': 'object', 'properties': {'keyword': {'type': 'string', 'description': 'The research of keyword'}}, 'required': ['keyword']}), type='function'), FunctionTool(function=FunctionDefinition(name='save_to_file', description='Save information to a file.', parameters={'type': 'object', 'properties': {'query': {'type': 'string', 'description': 'The query used to retrieve the information.'}, 'result': {'type': 'string', 'description': 'The result to be saved in the file.'}}, 'required': ['query', 'result']}), type='function')], usage=None, temperature=1.0, max_completion_tokens=None, max_prompt_tokens=None, truncation_strategy={'type': 'auto', 'last_messages': None}, incomplete_details=None, response_format='auto', tool_choice='auto')"
      ]
     },
     "execution_count": 16,
     "metadata": {},
     "output_type": "execute_result"
    }
   ],
   "source": [
    "get_run(run.id, thread.id)"
   ]
  },
  {
   "cell_type": "code",
   "execution_count": 17,
   "metadata": {},
   "outputs": [
    {
     "name": "stdout",
     "output_type": "stream",
     "text": [
      "Calling function: get_ddgSearch with arg {\"keyword\":\"is Salesforce stock a good buy\"}\n"
     ]
    },
    {
     "data": {
      "text/plain": [
       "Run(id='run_XuL7DO5m1TFlo0Vpkkg9m5vu', assistant_id='asst_md3AYOa4IsJtVFEl9bTitIe2', cancelled_at=None, completed_at=None, created_at=1713110534, expires_at=1713111134, failed_at=None, file_ids=[], instructions='You are a helful search manager assistance.\\n            \\n            You should try to search information WikiPedia or DuckDuckGo,\\n            \\n            If there is a list of website urls in the search results list, please extract the content of each website to text and organize it, \\n            This will be documented, so please keep the results organized', last_error=None, metadata={}, model='gpt-4-1106-preview', object='thread.run', required_action=None, started_at=1713110534, status='queued', thread_id='thread_nlIHJ5QIm5ppFr1sAWegSMSu', tools=[FunctionTool(function=FunctionDefinition(name='get_ddgSearch', description='find the duckduck go search Result in this website with keyword arugment.', parameters={'type': 'object', 'properties': {'keyword': {'type': 'string', 'description': 'The research of keyword'}}, 'required': ['keyword']}), type='function'), FunctionTool(function=FunctionDefinition(name='get_wikiSearch', description='find the wikipedia search Result in this website with query arugment.', parameters={'type': 'object', 'properties': {'keyword': {'type': 'string', 'description': 'The research of keyword'}}, 'required': ['keyword']}), type='function'), FunctionTool(function=FunctionDefinition(name='save_to_file', description='Save information to a file.', parameters={'type': 'object', 'properties': {'query': {'type': 'string', 'description': 'The query used to retrieve the information.'}, 'result': {'type': 'string', 'description': 'The result to be saved in the file.'}}, 'required': ['query', 'result']}), type='function')], usage=None, temperature=1.0, max_completion_tokens=None, max_prompt_tokens=None, truncation_strategy={'type': 'auto', 'last_messages': None}, incomplete_details=None, response_format='auto', tool_choice='auto')"
      ]
     },
     "execution_count": 17,
     "metadata": {},
     "output_type": "execute_result"
    }
   ],
   "source": [
    "submit_tool_outputs(run.id, thread.id)"
   ]
  },
  {
   "cell_type": "code",
   "execution_count": 18,
   "metadata": {},
   "outputs": [
    {
     "data": {
      "text/plain": [
       "'completed'"
      ]
     },
     "execution_count": 18,
     "metadata": {},
     "output_type": "execute_result"
    }
   ],
   "source": [
    "get_run(run.id,thread.id).status"
   ]
  },
  {
   "cell_type": "code",
   "execution_count": 19,
   "metadata": {},
   "outputs": [
    {
     "name": "stdout",
     "output_type": "stream",
     "text": [
      "user: I want to know if the Salesforce stock is a good buy\n",
      "assistant: Based on the search results, here's the summary of opinions regarding Salesforce stock as a buy:\n",
      "\n",
      "- Salesforce stock is considered *fairly valued* with a 3-star rating, according to a source that provided a long-term fair value estimate of $255 per share. \n",
      "- Brent Thill, an analyst from **Jefferies**, has maintained a *Buy* rating on Salesforce with a price target of $350.00.\n",
      "- Salesforce is mentioned as a candidate for a **\"buy-the-dip\"** strategy, with a notable rally of nearly 60% in 2023 following a 48% decline in 2022.\n",
      "- Investors often look for **Wall Street analysts' recommendations** when considering whether to buy, sell, or hold a stock.\n",
      "\n",
      "No direct advice on whether Salesforce stock is a definitive buy was provided in the search results. However, the information implies that some analysts maintain a positive outlook on the stock with a buy rating and an expectation of a rebound in value after previous declines. If you are considering this as an investment, it may be wise to review the latest financial analyses and market trends for Salesforce, and possibly consult with a financial advisor for personalized advice based on your individual investment goals and risk tolerance.\n"
     ]
    }
   ],
   "source": [
    "get_messages(thread.id)"
   ]
  }
 ],
 "metadata": {
  "kernelspec": {
   "display_name": ".venv",
   "language": "python",
   "name": "python3"
  },
  "language_info": {
   "codemirror_mode": {
    "name": "ipython",
    "version": 3
   },
   "file_extension": ".py",
   "mimetype": "text/x-python",
   "name": "python",
   "nbconvert_exporter": "python",
   "pygments_lexer": "ipython3",
   "version": "3.11.5"
  }
 },
 "nbformat": 4,
 "nbformat_minor": 2
}
