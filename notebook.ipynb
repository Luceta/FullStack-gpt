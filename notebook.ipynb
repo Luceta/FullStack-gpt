{
 "cells": [
  {
   "cell_type": "markdown",
   "metadata": {},
   "source": []
  },
  {
   "cell_type": "code",
   "execution_count": null,
   "metadata": {},
   "outputs": [],
   "source": [
    "from langchain.chat_models import ChatOpenAI\n",
    "from langchain.prompts import ChatPromptTemplate\n",
    "from langchain.callbacks import StreamingStdOutCallbackHandler\n",
    "\n",
    "# ChatOpenAI 모델을 초기화합니다.\n",
    "chat = ChatOpenAI(\n",
    "    temperature=0.1,\n",
    "    streaming=True,\n",
    "    callbacks=[\n",
    "        StreamingStdOutCallbackHandler(),\n",
    "    ],\n",
    ")\n",
    "\n",
    "# 시를 설명하는 체인 1: 프로그래밍 언어에 대한 시를 쓰는 체인\n",
    "programming_poetry_prompt = ChatPromptTemplate.from_messages(\n",
    "    [\n",
    "        (\n",
    "            \"system\",\n",
    "            \"You are a poet specialized in writing poems about programming languages. Write a poem about {programming_language}.\",\n",
    "        ),\n",
    "        (\"human\", \"\"),\n",
    "    ]\n",
    ")\n",
    "\n",
    "programming_poetry_chain = programming_poetry_prompt | chat\n",
    "\n",
    "# 시를 설명하는 체인 2: 프로그래밍 언어를 설명하는 체인\n",
    "programming_language_description_prompt = ChatPromptTemplate.from_messages(\n",
    "    [\n",
    "        (\n",
    "            \"system\",\n",
    "            \"You are explaining about the {programming_language} programming language. Describe its features and use cases.\",\n",
    "        ),\n",
    "        (\"human\", \"\"),\n",
    "    ]\n",
    ")\n",
    "\n",
    "programming_language_description_chain = programming_language_description_prompt | chat\n",
    "\n",
    "# 두 개의 체인을 연결합니다.\n",
    "final_chain = {\n",
    "    \"programming_language\": programming_poetry_chain\n",
    "} | programming_language_description_chain\n",
    "\n",
    "# 최종 체인을 호출하고 프로그래밍 언어의 이름을 받아 시와 설명을 출력합니다.\n",
    "final_chain.invoke({\"programming_language\": \"Python\"})"
   ]
  }
 ],
 "metadata": {
  "kernelspec": {
   "display_name": ".venv",
   "language": "python",
   "name": "python3"
  },
  "language_info": {
   "codemirror_mode": {
    "name": "ipython",
    "version": 3
   },
   "file_extension": ".py",
   "mimetype": "text/x-python",
   "name": "python",
   "nbconvert_exporter": "python",
   "pygments_lexer": "ipython3",
   "version": "3.11.5"
  }
 },
 "nbformat": 4,
 "nbformat_minor": 2
}
